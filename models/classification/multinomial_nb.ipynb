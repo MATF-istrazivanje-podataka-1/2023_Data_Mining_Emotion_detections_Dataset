{
 "cells": [
  {
   "cell_type": "code",
   "execution_count": 1,
   "id": "0cd8ed52-2c14-4208-975f-51c7f366a5ec",
   "metadata": {
    "tags": []
   },
   "outputs": [],
   "source": [
    "from sklearn.naive_bayes import MultinomialNB\n",
    "from sklearn.metrics import accuracy_score\n",
    "from sklearn.metrics import confusion_matrix\n",
    "from sklearn.feature_extraction import DictVectorizer\n",
    "from sklearn.model_selection import train_test_split\n",
    "\n",
    "import numpy as np\n",
    "import pandas as pd\n",
    "\n",
    "np.set_printoptions(linewidth=np.inf)"
   ]
  },
  {
   "cell_type": "code",
   "execution_count": 2,
   "id": "059ec9ea-d22d-4f04-a2db-282f604a8858",
   "metadata": {
    "tags": []
   },
   "outputs": [],
   "source": [
    "def parse_data(tweets: list[str]) -> dict[str, int]:\n",
    "    corpus: list[dict] = []\n",
    "    for tweet in tweets:\n",
    "        current_dict: dict[str, int] = {}\n",
    "        for word in tweet.split():\n",
    "            word = word.lower()\n",
    "            if word in current_dict:\n",
    "                current_dict[word] += 1\n",
    "            else:\n",
    "                current_dict[word] = 1\n",
    "        corpus.append(current_dict)\n",
    "        \n",
    "    return corpus"
   ]
  },
  {
   "cell_type": "code",
   "execution_count": 3,
   "id": "59e32ee2-efd5-4a60-813a-a520723a17ad",
   "metadata": {
    "tags": []
   },
   "outputs": [],
   "source": [
    "def highlight_diag(df):\n",
    "    a = np.full(df.shape, '', dtype='<U24')\n",
    "    np.fill_diagonal(a, 'background-color: blue')\n",
    "    return pd.DataFrame(a, index=df.index, columns=df.columns)"
   ]
  },
  {
   "cell_type": "code",
   "execution_count": 4,
   "id": "dcb43469-0872-440f-98ea-3df51c2d3d53",
   "metadata": {
    "tags": []
   },
   "outputs": [
    {
     "name": "stdout",
     "output_type": "stream",
     "text": [
      "tweet_id      int64\n",
      "sentiment    object\n",
      "content      object\n",
      "dtype: object\n"
     ]
    }
   ],
   "source": [
    "df = pd.read_csv('../../datasets/tweet_emotions.csv')\n",
    "print(df.dtypes)\n",
    "# print(len(df.loc[df['sentiment'] == 'neutral']))"
   ]
  },
  {
   "cell_type": "code",
   "execution_count": 5,
   "id": "bfb55569-b130-4210-814c-49d05f6bd14c",
   "metadata": {
    "tags": []
   },
   "outputs": [
    {
     "data": {
      "text/plain": [
       "sentiment    object\n",
       "content      object\n",
       "dtype: object"
      ]
     },
     "execution_count": 5,
     "metadata": {},
     "output_type": "execute_result"
    }
   ],
   "source": [
    "df.drop('tweet_id', axis=1, inplace=True)\n",
    "df.dtypes"
   ]
  },
  {
   "cell_type": "code",
   "execution_count": 6,
   "id": "ba44e220-9f60-4947-8487-dd0b41732ab9",
   "metadata": {
    "tags": []
   },
   "outputs": [
    {
     "name": "stdout",
     "output_type": "stream",
     "text": [
      "sentiment    object\n",
      "content      object\n",
      "dtype: object\n",
      "\n",
      "Emotion:\t count:\n",
      "neutral       8638\n",
      "worry         8459\n",
      "happiness     5209\n",
      "sadness       5165\n",
      "love          3842\n",
      "surprise      2187\n",
      "fun           1776\n",
      "relief        1526\n",
      "hate          1323\n",
      "empty          827\n",
      "enthusiasm     759\n",
      "boredom        179\n",
      "anger          110\n",
      "Name: sentiment, dtype: int64\n"
     ]
    }
   ],
   "source": [
    "unique_emotions = df['sentiment'].unique()\n",
    "print(df.dtypes)\n",
    "print('\\nEmotion:\\t count:')\n",
    "print(df['sentiment'].value_counts())"
   ]
  },
  {
   "cell_type": "code",
   "execution_count": 7,
   "id": "cf0d36b2-ef80-4a2c-992e-9b46aa10fccd",
   "metadata": {
    "tags": []
   },
   "outputs": [
    {
     "name": "stdout",
     "output_type": "stream",
     "text": [
      "Null values:\n",
      "sentiment    0\n",
      "content      0\n",
      "dtype: int64\n"
     ]
    }
   ],
   "source": [
    "print('Null values:\\n', df.isnull().sum(), sep='')"
   ]
  },
  {
   "cell_type": "code",
   "execution_count": 8,
   "id": "9fd9acaa-a0cb-4008-869e-e12d4d97ef9c",
   "metadata": {
    "tags": []
   },
   "outputs": [
    {
     "name": "stdout",
     "output_type": "stream",
     "text": [
      "Duplicates:\n",
      "91\n"
     ]
    }
   ],
   "source": [
    "print('Duplicates:\\n', df.duplicated().sum(), sep='')"
   ]
  },
  {
   "cell_type": "code",
   "execution_count": 9,
   "id": "4a1b8af0-045f-475e-85b5-6d93b056447b",
   "metadata": {
    "tags": []
   },
   "outputs": [],
   "source": [
    "df.drop_duplicates(inplace=True)"
   ]
  },
  {
   "cell_type": "code",
   "execution_count": null,
   "id": "f4c42d98-ed77-4d94-bc48-76f105ff9530",
   "metadata": {},
   "outputs": [],
   "source": []
  },
  {
   "cell_type": "code",
   "execution_count": 10,
   "id": "b344252e-cb02-42b6-8abf-ce413132e307",
   "metadata": {
    "tags": []
   },
   "outputs": [],
   "source": [
    "from sklearn.feature_extraction.text import CountVectorizer,TfidfVectorizer, TfidfTransformer"
   ]
  },
  {
   "cell_type": "code",
   "execution_count": 11,
   "id": "41198cde-78e8-4b85-9e18-13ba7e40291e",
   "metadata": {
    "tags": []
   },
   "outputs": [],
   "source": [
    "X = df.loc[:, 'content']\n",
    "y = df.loc[:, 'sentiment']"
   ]
  },
  {
   "cell_type": "code",
   "execution_count": 12,
   "id": "b8aa13a3-8633-40a4-94a4-bcbf74c876ea",
   "metadata": {
    "tags": []
   },
   "outputs": [],
   "source": [
    "dv = DictVectorizer()"
   ]
  },
  {
   "cell_type": "code",
   "execution_count": 13,
   "id": "e822174b-fa03-418c-ad4c-a14e88670df8",
   "metadata": {
    "tags": []
   },
   "outputs": [],
   "source": [
    "# X = dv.fit_transform(parse_data(X))"
   ]
  },
  {
   "cell_type": "code",
   "execution_count": null,
   "id": "b6056549-78e6-483c-b2cd-f2b48e489e75",
   "metadata": {
    "tags": []
   },
   "outputs": [],
   "source": []
  },
  {
   "cell_type": "code",
   "execution_count": 30,
   "id": "8a004c6c-5b27-460d-af39-cdf9ef2b5ce7",
   "metadata": {
    "tags": []
   },
   "outputs": [],
   "source": [
    "X_train, X_test, y_train, y_test = train_test_split(X, y, test_size=0.2)"
   ]
  },
  {
   "cell_type": "code",
   "execution_count": null,
   "id": "c1978c08-aa41-4b85-b314-93f560685b75",
   "metadata": {},
   "outputs": [],
   "source": []
  },
  {
   "cell_type": "code",
   "execution_count": 15,
   "id": "b18b508b-f2eb-4e10-b94b-6466ff99d565",
   "metadata": {},
   "outputs": [],
   "source": [
    "model = MultinomialNB()"
   ]
  },
  {
   "cell_type": "code",
   "execution_count": 31,
   "id": "ea5bfd9a-7c36-484d-a741-91d2549467f0",
   "metadata": {
    "tags": []
   },
   "outputs": [],
   "source": [
    "X_train_dv = dv.fit_transform(parse_data(X_train))"
   ]
  },
  {
   "cell_type": "code",
   "execution_count": 32,
   "id": "c2e36d9d-b947-46bb-945c-a9e435e3450c",
   "metadata": {},
   "outputs": [
    {
     "data": {
      "text/html": [
       "<style>#sk-container-id-2 {color: black;background-color: white;}#sk-container-id-2 pre{padding: 0;}#sk-container-id-2 div.sk-toggleable {background-color: white;}#sk-container-id-2 label.sk-toggleable__label {cursor: pointer;display: block;width: 100%;margin-bottom: 0;padding: 0.3em;box-sizing: border-box;text-align: center;}#sk-container-id-2 label.sk-toggleable__label-arrow:before {content: \"▸\";float: left;margin-right: 0.25em;color: #696969;}#sk-container-id-2 label.sk-toggleable__label-arrow:hover:before {color: black;}#sk-container-id-2 div.sk-estimator:hover label.sk-toggleable__label-arrow:before {color: black;}#sk-container-id-2 div.sk-toggleable__content {max-height: 0;max-width: 0;overflow: hidden;text-align: left;background-color: #f0f8ff;}#sk-container-id-2 div.sk-toggleable__content pre {margin: 0.2em;color: black;border-radius: 0.25em;background-color: #f0f8ff;}#sk-container-id-2 input.sk-toggleable__control:checked~div.sk-toggleable__content {max-height: 200px;max-width: 100%;overflow: auto;}#sk-container-id-2 input.sk-toggleable__control:checked~label.sk-toggleable__label-arrow:before {content: \"▾\";}#sk-container-id-2 div.sk-estimator input.sk-toggleable__control:checked~label.sk-toggleable__label {background-color: #d4ebff;}#sk-container-id-2 div.sk-label input.sk-toggleable__control:checked~label.sk-toggleable__label {background-color: #d4ebff;}#sk-container-id-2 input.sk-hidden--visually {border: 0;clip: rect(1px 1px 1px 1px);clip: rect(1px, 1px, 1px, 1px);height: 1px;margin: -1px;overflow: hidden;padding: 0;position: absolute;width: 1px;}#sk-container-id-2 div.sk-estimator {font-family: monospace;background-color: #f0f8ff;border: 1px dotted black;border-radius: 0.25em;box-sizing: border-box;margin-bottom: 0.5em;}#sk-container-id-2 div.sk-estimator:hover {background-color: #d4ebff;}#sk-container-id-2 div.sk-parallel-item::after {content: \"\";width: 100%;border-bottom: 1px solid gray;flex-grow: 1;}#sk-container-id-2 div.sk-label:hover label.sk-toggleable__label {background-color: #d4ebff;}#sk-container-id-2 div.sk-serial::before {content: \"\";position: absolute;border-left: 1px solid gray;box-sizing: border-box;top: 0;bottom: 0;left: 50%;z-index: 0;}#sk-container-id-2 div.sk-serial {display: flex;flex-direction: column;align-items: center;background-color: white;padding-right: 0.2em;padding-left: 0.2em;position: relative;}#sk-container-id-2 div.sk-item {position: relative;z-index: 1;}#sk-container-id-2 div.sk-parallel {display: flex;align-items: stretch;justify-content: center;background-color: white;position: relative;}#sk-container-id-2 div.sk-item::before, #sk-container-id-2 div.sk-parallel-item::before {content: \"\";position: absolute;border-left: 1px solid gray;box-sizing: border-box;top: 0;bottom: 0;left: 50%;z-index: -1;}#sk-container-id-2 div.sk-parallel-item {display: flex;flex-direction: column;z-index: 1;position: relative;background-color: white;}#sk-container-id-2 div.sk-parallel-item:first-child::after {align-self: flex-end;width: 50%;}#sk-container-id-2 div.sk-parallel-item:last-child::after {align-self: flex-start;width: 50%;}#sk-container-id-2 div.sk-parallel-item:only-child::after {width: 0;}#sk-container-id-2 div.sk-dashed-wrapped {border: 1px dashed gray;margin: 0 0.4em 0.5em 0.4em;box-sizing: border-box;padding-bottom: 0.4em;background-color: white;}#sk-container-id-2 div.sk-label label {font-family: monospace;font-weight: bold;display: inline-block;line-height: 1.2em;}#sk-container-id-2 div.sk-label-container {text-align: center;}#sk-container-id-2 div.sk-container {/* jupyter's `normalize.less` sets `[hidden] { display: none; }` but bootstrap.min.css set `[hidden] { display: none !important; }` so we also need the `!important` here to be able to override the default hidden behavior on the sphinx rendered scikit-learn.org. See: https://github.com/scikit-learn/scikit-learn/issues/21755 */display: inline-block !important;position: relative;}#sk-container-id-2 div.sk-text-repr-fallback {display: none;}</style><div id=\"sk-container-id-2\" class=\"sk-top-container\"><div class=\"sk-text-repr-fallback\"><pre>MultinomialNB()</pre><b>In a Jupyter environment, please rerun this cell to show the HTML representation or trust the notebook. <br />On GitHub, the HTML representation is unable to render, please try loading this page with nbviewer.org.</b></div><div class=\"sk-container\" hidden><div class=\"sk-item\"><div class=\"sk-estimator sk-toggleable\"><input class=\"sk-toggleable__control sk-hidden--visually\" id=\"sk-estimator-id-2\" type=\"checkbox\" checked><label for=\"sk-estimator-id-2\" class=\"sk-toggleable__label sk-toggleable__label-arrow\">MultinomialNB</label><div class=\"sk-toggleable__content\"><pre>MultinomialNB()</pre></div></div></div></div></div>"
      ],
      "text/plain": [
       "MultinomialNB()"
      ]
     },
     "execution_count": 32,
     "metadata": {},
     "output_type": "execute_result"
    }
   ],
   "source": [
    "model.fit(X_train_dv, y_train)"
   ]
  },
  {
   "cell_type": "code",
   "execution_count": 33,
   "id": "192f3b2f-b93a-40f2-89be-166c3e0c8f9f",
   "metadata": {
    "tags": []
   },
   "outputs": [],
   "source": [
    "y_train_pred = model.predict(X_train_dv)"
   ]
  },
  {
   "cell_type": "code",
   "execution_count": 34,
   "id": "07dbb33c-146a-42b6-a964-2d751da12c99",
   "metadata": {
    "tags": []
   },
   "outputs": [
    {
     "data": {
      "text/plain": [
       "0.5854292605005168"
      ]
     },
     "execution_count": 34,
     "metadata": {},
     "output_type": "execute_result"
    }
   ],
   "source": [
    "accuracy_score(y_train, y_train_pred)"
   ]
  },
  {
   "cell_type": "code",
   "execution_count": 35,
   "id": "5d53fc46-cfc5-4928-bca8-3ad3f495f444",
   "metadata": {
    "tags": []
   },
   "outputs": [
    {
     "data": {
      "text/plain": [
       "array([[   0,    0,    0,    0,    0,    4,    0,    0,   18,    0,    8,    0,   54],\n",
       "       [   0,    1,    0,    0,    0,    0,    0,    1,   27,    0,   10,    0,  102],\n",
       "       [   0,    0,   25,    0,    0,   37,    0,    5,  190,    0,   34,    0,  348],\n",
       "       [   0,    0,    0,   17,    0,   59,    0,   14,  172,    0,   15,    0,  337],\n",
       "       [   0,    0,    0,    0,  108,  210,    0,   26,  335,    0,   35,    1,  695],\n",
       "       [   0,    0,    0,    0,    0, 2731,    0,  100,  318,    0,   21,    0,  959],\n",
       "       [   0,    0,    0,    0,    1,   21,   66,    4,  119,    0,   86,    0,  781],\n",
       "       [   0,    0,    0,    0,    1,  212,    0, 1585,  289,    0,   37,    0,  936],\n",
       "       [   0,    0,    0,    0,    0,  144,    0,   93, 5333,    0,   44,    0, 1290],\n",
       "       [   0,    0,    0,    0,    0,  127,    0,   37,  268,   54,   27,    0,  702],\n",
       "       [   0,    0,    1,    0,    0,   40,    0,   17,  236,    0, 2040,    0, 1768],\n",
       "       [   0,    0,    0,    0,    0,  139,    0,   58,  347,    0,   48,  189,  991],\n",
       "       [   0,    0,    0,    0,    0,   62,    0,   48,  103,    0,   24,    0, 6542]], dtype=int64)"
      ]
     },
     "execution_count": 35,
     "metadata": {},
     "output_type": "execute_result"
    }
   ],
   "source": [
    "confusion_matrix(y_train, y_train_pred)"
   ]
  },
  {
   "cell_type": "code",
   "execution_count": 36,
   "id": "b5460c9d-deb7-4d39-8ac0-e2d848d49f38",
   "metadata": {
    "tags": []
   },
   "outputs": [
    {
     "data": {
      "text/plain": [
       "0.2912803808569281"
      ]
     },
     "execution_count": 36,
     "metadata": {},
     "output_type": "execute_result"
    }
   ],
   "source": [
    "X_test_dv = dv.transform(parse_data(X_test))\n",
    "y_test_pred = model.predict(X_test_dv)\n",
    "accuracy_score(y_test, y_test_pred)"
   ]
  },
  {
   "cell_type": "code",
   "execution_count": 37,
   "id": "f88fdf84-98d5-4133-aeb5-bb8449ca3aa8",
   "metadata": {
    "tags": []
   },
   "outputs": [
    {
     "data": {
      "text/html": [
       "<style type=\"text/css\">\n",
       "#T_24900_row0_col0, #T_24900_row1_col1, #T_24900_row2_col2, #T_24900_row3_col3, #T_24900_row4_col4, #T_24900_row5_col5, #T_24900_row6_col6, #T_24900_row7_col7, #T_24900_row8_col8, #T_24900_row9_col9, #T_24900_row10_col10, #T_24900_row11_col11, #T_24900_row12_col12 {\n",
       "  background-color: blue;\n",
       "}\n",
       "</style>\n",
       "<table id=\"T_24900\">\n",
       "  <thead>\n",
       "    <tr>\n",
       "      <th class=\"blank level0\" >&nbsp;</th>\n",
       "      <th id=\"T_24900_level0_col0\" class=\"col_heading level0 col0\" >empty</th>\n",
       "      <th id=\"T_24900_level0_col1\" class=\"col_heading level0 col1\" >sadness</th>\n",
       "      <th id=\"T_24900_level0_col2\" class=\"col_heading level0 col2\" >enthusiasm</th>\n",
       "      <th id=\"T_24900_level0_col3\" class=\"col_heading level0 col3\" >neutral</th>\n",
       "      <th id=\"T_24900_level0_col4\" class=\"col_heading level0 col4\" >worry</th>\n",
       "      <th id=\"T_24900_level0_col5\" class=\"col_heading level0 col5\" >surprise</th>\n",
       "      <th id=\"T_24900_level0_col6\" class=\"col_heading level0 col6\" >love</th>\n",
       "      <th id=\"T_24900_level0_col7\" class=\"col_heading level0 col7\" >fun</th>\n",
       "      <th id=\"T_24900_level0_col8\" class=\"col_heading level0 col8\" >hate</th>\n",
       "      <th id=\"T_24900_level0_col9\" class=\"col_heading level0 col9\" >happiness</th>\n",
       "      <th id=\"T_24900_level0_col10\" class=\"col_heading level0 col10\" >boredom</th>\n",
       "      <th id=\"T_24900_level0_col11\" class=\"col_heading level0 col11\" >relief</th>\n",
       "      <th id=\"T_24900_level0_col12\" class=\"col_heading level0 col12\" >anger</th>\n",
       "    </tr>\n",
       "  </thead>\n",
       "  <tbody>\n",
       "    <tr>\n",
       "      <th id=\"T_24900_level0_row0\" class=\"row_heading level0 row0\" >empty</th>\n",
       "      <td id=\"T_24900_row0_col0\" class=\"data row0 col0\" >0</td>\n",
       "      <td id=\"T_24900_row0_col1\" class=\"data row0 col1\" >7</td>\n",
       "      <td id=\"T_24900_row0_col2\" class=\"data row0 col2\" >0</td>\n",
       "      <td id=\"T_24900_row0_col3\" class=\"data row0 col3\" >55</td>\n",
       "      <td id=\"T_24900_row0_col4\" class=\"data row0 col4\" >114</td>\n",
       "      <td id=\"T_24900_row0_col5\" class=\"data row0 col5\" >0</td>\n",
       "      <td id=\"T_24900_row0_col6\" class=\"data row0 col6\" >2</td>\n",
       "      <td id=\"T_24900_row0_col7\" class=\"data row0 col7\" >1</td>\n",
       "      <td id=\"T_24900_row0_col8\" class=\"data row0 col8\" >0</td>\n",
       "      <td id=\"T_24900_row0_col9\" class=\"data row0 col9\" >9</td>\n",
       "      <td id=\"T_24900_row0_col10\" class=\"data row0 col10\" >0</td>\n",
       "      <td id=\"T_24900_row0_col11\" class=\"data row0 col11\" >0</td>\n",
       "      <td id=\"T_24900_row0_col12\" class=\"data row0 col12\" >0</td>\n",
       "    </tr>\n",
       "    <tr>\n",
       "      <th id=\"T_24900_level0_row1\" class=\"row_heading level0 row1\" >sadness</th>\n",
       "      <td id=\"T_24900_row1_col0\" class=\"data row1 col0\" >0</td>\n",
       "      <td id=\"T_24900_row1_col1\" class=\"data row1 col1\" >69</td>\n",
       "      <td id=\"T_24900_row1_col2\" class=\"data row1 col2\" >0</td>\n",
       "      <td id=\"T_24900_row1_col3\" class=\"data row1 col3\" >110</td>\n",
       "      <td id=\"T_24900_row1_col4\" class=\"data row1 col4\" >859</td>\n",
       "      <td id=\"T_24900_row1_col5\" class=\"data row1 col5\" >0</td>\n",
       "      <td id=\"T_24900_row1_col6\" class=\"data row1 col6\" >1</td>\n",
       "      <td id=\"T_24900_row1_col7\" class=\"data row1 col7\" >0</td>\n",
       "      <td id=\"T_24900_row1_col8\" class=\"data row1 col8\" >0</td>\n",
       "      <td id=\"T_24900_row1_col9\" class=\"data row1 col9\" >19</td>\n",
       "      <td id=\"T_24900_row1_col10\" class=\"data row1 col10\" >0</td>\n",
       "      <td id=\"T_24900_row1_col11\" class=\"data row1 col11\" >0</td>\n",
       "      <td id=\"T_24900_row1_col12\" class=\"data row1 col12\" >0</td>\n",
       "    </tr>\n",
       "    <tr>\n",
       "      <th id=\"T_24900_level0_row2\" class=\"row_heading level0 row2\" >enthusiasm</th>\n",
       "      <td id=\"T_24900_row2_col0\" class=\"data row2 col0\" >0</td>\n",
       "      <td id=\"T_24900_row2_col1\" class=\"data row2 col1\" >2</td>\n",
       "      <td id=\"T_24900_row2_col2\" class=\"data row2 col2\" >0</td>\n",
       "      <td id=\"T_24900_row2_col3\" class=\"data row2 col3\" >40</td>\n",
       "      <td id=\"T_24900_row2_col4\" class=\"data row2 col4\" >88</td>\n",
       "      <td id=\"T_24900_row2_col5\" class=\"data row2 col5\" >0</td>\n",
       "      <td id=\"T_24900_row2_col6\" class=\"data row2 col6\" >1</td>\n",
       "      <td id=\"T_24900_row2_col7\" class=\"data row2 col7\" >0</td>\n",
       "      <td id=\"T_24900_row2_col8\" class=\"data row2 col8\" >0</td>\n",
       "      <td id=\"T_24900_row2_col9\" class=\"data row2 col9\" >14</td>\n",
       "      <td id=\"T_24900_row2_col10\" class=\"data row2 col10\" >0</td>\n",
       "      <td id=\"T_24900_row2_col11\" class=\"data row2 col11\" >0</td>\n",
       "      <td id=\"T_24900_row2_col12\" class=\"data row2 col12\" >0</td>\n",
       "    </tr>\n",
       "    <tr>\n",
       "      <th id=\"T_24900_level0_row3\" class=\"row_heading level0 row3\" >neutral</th>\n",
       "      <td id=\"T_24900_row3_col0\" class=\"data row3 col0\" >2</td>\n",
       "      <td id=\"T_24900_row3_col1\" class=\"data row3 col1\" >43</td>\n",
       "      <td id=\"T_24900_row3_col2\" class=\"data row3 col2\" >0</td>\n",
       "      <td id=\"T_24900_row3_col3\" class=\"data row3 col3\" >545</td>\n",
       "      <td id=\"T_24900_row3_col4\" class=\"data row3 col4\" >984</td>\n",
       "      <td id=\"T_24900_row3_col5\" class=\"data row3 col5\" >0</td>\n",
       "      <td id=\"T_24900_row3_col6\" class=\"data row3 col6\" >37</td>\n",
       "      <td id=\"T_24900_row3_col7\" class=\"data row3 col7\" >0</td>\n",
       "      <td id=\"T_24900_row3_col8\" class=\"data row3 col8\" >1</td>\n",
       "      <td id=\"T_24900_row3_col9\" class=\"data row3 col9\" >101</td>\n",
       "      <td id=\"T_24900_row3_col10\" class=\"data row3 col10\" >0</td>\n",
       "      <td id=\"T_24900_row3_col11\" class=\"data row3 col11\" >0</td>\n",
       "      <td id=\"T_24900_row3_col12\" class=\"data row3 col12\" >0</td>\n",
       "    </tr>\n",
       "    <tr>\n",
       "      <th id=\"T_24900_level0_row4\" class=\"row_heading level0 row4\" >worry</th>\n",
       "      <td id=\"T_24900_row4_col0\" class=\"data row4 col0\" >0</td>\n",
       "      <td id=\"T_24900_row4_col1\" class=\"data row4 col1\" >57</td>\n",
       "      <td id=\"T_24900_row4_col2\" class=\"data row4 col2\" >0</td>\n",
       "      <td id=\"T_24900_row4_col3\" class=\"data row4 col3\" >246</td>\n",
       "      <td id=\"T_24900_row4_col4\" class=\"data row4 col4\" >1311</td>\n",
       "      <td id=\"T_24900_row4_col5\" class=\"data row4 col5\" >0</td>\n",
       "      <td id=\"T_24900_row4_col6\" class=\"data row4 col6\" >17</td>\n",
       "      <td id=\"T_24900_row4_col7\" class=\"data row4 col7\" >0</td>\n",
       "      <td id=\"T_24900_row4_col8\" class=\"data row4 col8\" >0</td>\n",
       "      <td id=\"T_24900_row4_col9\" class=\"data row4 col9\" >42</td>\n",
       "      <td id=\"T_24900_row4_col10\" class=\"data row4 col10\" >0</td>\n",
       "      <td id=\"T_24900_row4_col11\" class=\"data row4 col11\" >0</td>\n",
       "      <td id=\"T_24900_row4_col12\" class=\"data row4 col12\" >0</td>\n",
       "    </tr>\n",
       "    <tr>\n",
       "      <th id=\"T_24900_level0_row5\" class=\"row_heading level0 row5\" >surprise</th>\n",
       "      <td id=\"T_24900_row5_col0\" class=\"data row5 col0\" >0</td>\n",
       "      <td id=\"T_24900_row5_col1\" class=\"data row5 col1\" >6</td>\n",
       "      <td id=\"T_24900_row5_col2\" class=\"data row5 col2\" >0</td>\n",
       "      <td id=\"T_24900_row5_col3\" class=\"data row5 col3\" >101</td>\n",
       "      <td id=\"T_24900_row5_col4\" class=\"data row5 col4\" >260</td>\n",
       "      <td id=\"T_24900_row5_col5\" class=\"data row5 col5\" >0</td>\n",
       "      <td id=\"T_24900_row5_col6\" class=\"data row5 col6\" >11</td>\n",
       "      <td id=\"T_24900_row5_col7\" class=\"data row5 col7\" >0</td>\n",
       "      <td id=\"T_24900_row5_col8\" class=\"data row5 col8\" >0</td>\n",
       "      <td id=\"T_24900_row5_col9\" class=\"data row5 col9\" >37</td>\n",
       "      <td id=\"T_24900_row5_col10\" class=\"data row5 col10\" >0</td>\n",
       "      <td id=\"T_24900_row5_col11\" class=\"data row5 col11\" >0</td>\n",
       "      <td id=\"T_24900_row5_col12\" class=\"data row5 col12\" >0</td>\n",
       "    </tr>\n",
       "    <tr>\n",
       "      <th id=\"T_24900_level0_row6\" class=\"row_heading level0 row6\" >love</th>\n",
       "      <td id=\"T_24900_row6_col0\" class=\"data row6 col0\" >0</td>\n",
       "      <td id=\"T_24900_row6_col1\" class=\"data row6 col1\" >10</td>\n",
       "      <td id=\"T_24900_row6_col2\" class=\"data row6 col2\" >0</td>\n",
       "      <td id=\"T_24900_row6_col3\" class=\"data row6 col3\" >138</td>\n",
       "      <td id=\"T_24900_row6_col4\" class=\"data row6 col4\" >330</td>\n",
       "      <td id=\"T_24900_row6_col5\" class=\"data row6 col5\" >0</td>\n",
       "      <td id=\"T_24900_row6_col6\" class=\"data row6 col6\" >149</td>\n",
       "      <td id=\"T_24900_row6_col7\" class=\"data row6 col7\" >0</td>\n",
       "      <td id=\"T_24900_row6_col8\" class=\"data row6 col8\" >0</td>\n",
       "      <td id=\"T_24900_row6_col9\" class=\"data row6 col9\" >114</td>\n",
       "      <td id=\"T_24900_row6_col10\" class=\"data row6 col10\" >0</td>\n",
       "      <td id=\"T_24900_row6_col11\" class=\"data row6 col11\" >0</td>\n",
       "      <td id=\"T_24900_row6_col12\" class=\"data row6 col12\" >0</td>\n",
       "    </tr>\n",
       "    <tr>\n",
       "      <th id=\"T_24900_level0_row7\" class=\"row_heading level0 row7\" >fun</th>\n",
       "      <td id=\"T_24900_row7_col0\" class=\"data row7 col0\" >0</td>\n",
       "      <td id=\"T_24900_row7_col1\" class=\"data row7 col1\" >13</td>\n",
       "      <td id=\"T_24900_row7_col2\" class=\"data row7 col2\" >0</td>\n",
       "      <td id=\"T_24900_row7_col3\" class=\"data row7 col3\" >110</td>\n",
       "      <td id=\"T_24900_row7_col4\" class=\"data row7 col4\" >169</td>\n",
       "      <td id=\"T_24900_row7_col5\" class=\"data row7 col5\" >0</td>\n",
       "      <td id=\"T_24900_row7_col6\" class=\"data row7 col6\" >8</td>\n",
       "      <td id=\"T_24900_row7_col7\" class=\"data row7 col7\" >1</td>\n",
       "      <td id=\"T_24900_row7_col8\" class=\"data row7 col8\" >0</td>\n",
       "      <td id=\"T_24900_row7_col9\" class=\"data row7 col9\" >65</td>\n",
       "      <td id=\"T_24900_row7_col10\" class=\"data row7 col10\" >0</td>\n",
       "      <td id=\"T_24900_row7_col11\" class=\"data row7 col11\" >0</td>\n",
       "      <td id=\"T_24900_row7_col12\" class=\"data row7 col12\" >0</td>\n",
       "    </tr>\n",
       "    <tr>\n",
       "      <th id=\"T_24900_level0_row8\" class=\"row_heading level0 row8\" >hate</th>\n",
       "      <td id=\"T_24900_row8_col0\" class=\"data row8 col0\" >0</td>\n",
       "      <td id=\"T_24900_row8_col1\" class=\"data row8 col1\" >16</td>\n",
       "      <td id=\"T_24900_row8_col2\" class=\"data row8 col2\" >0</td>\n",
       "      <td id=\"T_24900_row8_col3\" class=\"data row8 col3\" >25</td>\n",
       "      <td id=\"T_24900_row8_col4\" class=\"data row8 col4\" >200</td>\n",
       "      <td id=\"T_24900_row8_col5\" class=\"data row8 col5\" >0</td>\n",
       "      <td id=\"T_24900_row8_col6\" class=\"data row8 col6\" >1</td>\n",
       "      <td id=\"T_24900_row8_col7\" class=\"data row8 col7\" >0</td>\n",
       "      <td id=\"T_24900_row8_col8\" class=\"data row8 col8\" >1</td>\n",
       "      <td id=\"T_24900_row8_col9\" class=\"data row8 col9\" >2</td>\n",
       "      <td id=\"T_24900_row8_col10\" class=\"data row8 col10\" >0</td>\n",
       "      <td id=\"T_24900_row8_col11\" class=\"data row8 col11\" >0</td>\n",
       "      <td id=\"T_24900_row8_col12\" class=\"data row8 col12\" >0</td>\n",
       "    </tr>\n",
       "    <tr>\n",
       "      <th id=\"T_24900_level0_row9\" class=\"row_heading level0 row9\" >happiness</th>\n",
       "      <td id=\"T_24900_row9_col0\" class=\"data row9 col0\" >0</td>\n",
       "      <td id=\"T_24900_row9_col1\" class=\"data row9 col1\" >14</td>\n",
       "      <td id=\"T_24900_row9_col2\" class=\"data row9 col2\" >0</td>\n",
       "      <td id=\"T_24900_row9_col3\" class=\"data row9 col3\" >257</td>\n",
       "      <td id=\"T_24900_row9_col4\" class=\"data row9 col4\" >506</td>\n",
       "      <td id=\"T_24900_row9_col5\" class=\"data row9 col5\" >0</td>\n",
       "      <td id=\"T_24900_row9_col6\" class=\"data row9 col6\" >39</td>\n",
       "      <td id=\"T_24900_row9_col7\" class=\"data row9 col7\" >0</td>\n",
       "      <td id=\"T_24900_row9_col8\" class=\"data row9 col8\" >0</td>\n",
       "      <td id=\"T_24900_row9_col9\" class=\"data row9 col9\" >249</td>\n",
       "      <td id=\"T_24900_row9_col10\" class=\"data row9 col10\" >0</td>\n",
       "      <td id=\"T_24900_row9_col11\" class=\"data row9 col11\" >0</td>\n",
       "      <td id=\"T_24900_row9_col12\" class=\"data row9 col12\" >0</td>\n",
       "    </tr>\n",
       "    <tr>\n",
       "      <th id=\"T_24900_level0_row10\" class=\"row_heading level0 row10\" >boredom</th>\n",
       "      <td id=\"T_24900_row10_col0\" class=\"data row10 col0\" >0</td>\n",
       "      <td id=\"T_24900_row10_col1\" class=\"data row10 col1\" >5</td>\n",
       "      <td id=\"T_24900_row10_col2\" class=\"data row10 col2\" >0</td>\n",
       "      <td id=\"T_24900_row10_col3\" class=\"data row10 col3\" >2</td>\n",
       "      <td id=\"T_24900_row10_col4\" class=\"data row10 col4\" >30</td>\n",
       "      <td id=\"T_24900_row10_col5\" class=\"data row10 col5\" >0</td>\n",
       "      <td id=\"T_24900_row10_col6\" class=\"data row10 col6\" >0</td>\n",
       "      <td id=\"T_24900_row10_col7\" class=\"data row10 col7\" >0</td>\n",
       "      <td id=\"T_24900_row10_col8\" class=\"data row10 col8\" >0</td>\n",
       "      <td id=\"T_24900_row10_col9\" class=\"data row10 col9\" >1</td>\n",
       "      <td id=\"T_24900_row10_col10\" class=\"data row10 col10\" >0</td>\n",
       "      <td id=\"T_24900_row10_col11\" class=\"data row10 col11\" >0</td>\n",
       "      <td id=\"T_24900_row10_col12\" class=\"data row10 col12\" >0</td>\n",
       "    </tr>\n",
       "    <tr>\n",
       "      <th id=\"T_24900_level0_row11\" class=\"row_heading level0 row11\" >relief</th>\n",
       "      <td id=\"T_24900_row11_col0\" class=\"data row11 col0\" >0</td>\n",
       "      <td id=\"T_24900_row11_col1\" class=\"data row11 col1\" >2</td>\n",
       "      <td id=\"T_24900_row11_col2\" class=\"data row11 col2\" >0</td>\n",
       "      <td id=\"T_24900_row11_col3\" class=\"data row11 col3\" >75</td>\n",
       "      <td id=\"T_24900_row11_col4\" class=\"data row11 col4\" >188</td>\n",
       "      <td id=\"T_24900_row11_col5\" class=\"data row11 col5\" >0</td>\n",
       "      <td id=\"T_24900_row11_col6\" class=\"data row11 col6\" >13</td>\n",
       "      <td id=\"T_24900_row11_col7\" class=\"data row11 col7\" >0</td>\n",
       "      <td id=\"T_24900_row11_col8\" class=\"data row11 col8\" >0</td>\n",
       "      <td id=\"T_24900_row11_col9\" class=\"data row11 col9\" >31</td>\n",
       "      <td id=\"T_24900_row11_col10\" class=\"data row11 col10\" >0</td>\n",
       "      <td id=\"T_24900_row11_col11\" class=\"data row11 col11\" >0</td>\n",
       "      <td id=\"T_24900_row11_col12\" class=\"data row11 col12\" >0</td>\n",
       "    </tr>\n",
       "    <tr>\n",
       "      <th id=\"T_24900_level0_row12\" class=\"row_heading level0 row12\" >anger</th>\n",
       "      <td id=\"T_24900_row12_col0\" class=\"data row12 col0\" >0</td>\n",
       "      <td id=\"T_24900_row12_col1\" class=\"data row12 col1\" >0</td>\n",
       "      <td id=\"T_24900_row12_col2\" class=\"data row12 col2\" >0</td>\n",
       "      <td id=\"T_24900_row12_col3\" class=\"data row12 col3\" >5</td>\n",
       "      <td id=\"T_24900_row12_col4\" class=\"data row12 col4\" >21</td>\n",
       "      <td id=\"T_24900_row12_col5\" class=\"data row12 col5\" >0</td>\n",
       "      <td id=\"T_24900_row12_col6\" class=\"data row12 col6\" >0</td>\n",
       "      <td id=\"T_24900_row12_col7\" class=\"data row12 col7\" >0</td>\n",
       "      <td id=\"T_24900_row12_col8\" class=\"data row12 col8\" >0</td>\n",
       "      <td id=\"T_24900_row12_col9\" class=\"data row12 col9\" >0</td>\n",
       "      <td id=\"T_24900_row12_col10\" class=\"data row12 col10\" >0</td>\n",
       "      <td id=\"T_24900_row12_col11\" class=\"data row12 col11\" >0</td>\n",
       "      <td id=\"T_24900_row12_col12\" class=\"data row12 col12\" >0</td>\n",
       "    </tr>\n",
       "  </tbody>\n",
       "</table>\n"
      ],
      "text/plain": [
       "<pandas.io.formats.style.Styler at 0x19664d96d60>"
      ]
     },
     "execution_count": 37,
     "metadata": {},
     "output_type": "execute_result"
    }
   ],
   "source": [
    "cm = confusion_matrix(y_test, y_test_pred, labels=unique_emotions)\n",
    "# pd.DataFrame(cm, index=unique_emotions, columns=unique_emotions)\n",
    "colored_df = pd.DataFrame(cm, index=unique_emotions, columns=unique_emotions)\n",
    "colored_df.style.apply(highlight_diag, axis=None)"
   ]
  },
  {
   "cell_type": "code",
   "execution_count": null,
   "id": "3d138c6d-ea89-4688-a528-d618762fce1b",
   "metadata": {},
   "outputs": [],
   "source": []
  }
 ],
 "metadata": {
  "kernelspec": {
   "display_name": "Python 3 (ipykernel)",
   "language": "python",
   "name": "python3"
  },
  "language_info": {
   "codemirror_mode": {
    "name": "ipython",
    "version": 3
   },
   "file_extension": ".py",
   "mimetype": "text/x-python",
   "name": "python",
   "nbconvert_exporter": "python",
   "pygments_lexer": "ipython3",
   "version": "3.9.13"
  }
 },
 "nbformat": 4,
 "nbformat_minor": 5
}
